{
  "cells": [
    {
      "cell_type": "code",
      "execution_count": 2,
      "metadata": {
        "colab": {
          "base_uri": "https://localhost:8080/"
        },
        "id": "Q_nViMdVK296",
        "outputId": "daa8ff62-1473-4ce5-fa13-e7fd7b7212ff"
      },
      "outputs": [
        {
          "name": "stdout",
          "output_type": "stream",
          "text": [
            "Requirement already satisfied: spacy in /usr/local/lib/python3.11/dist-packages (3.8.5)\n",
            "Requirement already satisfied: spacy-legacy<3.1.0,>=3.0.11 in /usr/local/lib/python3.11/dist-packages (from spacy) (3.0.12)\n",
            "Requirement already satisfied: spacy-loggers<2.0.0,>=1.0.0 in /usr/local/lib/python3.11/dist-packages (from spacy) (1.0.5)\n",
            "Requirement already satisfied: murmurhash<1.1.0,>=0.28.0 in /usr/local/lib/python3.11/dist-packages (from spacy) (1.0.12)\n",
            "Requirement already satisfied: cymem<2.1.0,>=2.0.2 in /usr/local/lib/python3.11/dist-packages (from spacy) (2.0.11)\n",
            "Requirement already satisfied: preshed<3.1.0,>=3.0.2 in /usr/local/lib/python3.11/dist-packages (from spacy) (3.0.9)\n",
            "Requirement already satisfied: thinc<8.4.0,>=8.3.4 in /usr/local/lib/python3.11/dist-packages (from spacy) (8.3.6)\n",
            "Requirement already satisfied: wasabi<1.2.0,>=0.9.1 in /usr/local/lib/python3.11/dist-packages (from spacy) (1.1.3)\n",
            "Requirement already satisfied: srsly<3.0.0,>=2.4.3 in /usr/local/lib/python3.11/dist-packages (from spacy) (2.5.1)\n",
            "Requirement already satisfied: catalogue<2.1.0,>=2.0.6 in /usr/local/lib/python3.11/dist-packages (from spacy) (2.0.10)\n",
            "Requirement already satisfied: weasel<0.5.0,>=0.1.0 in /usr/local/lib/python3.11/dist-packages (from spacy) (0.4.1)\n",
            "Requirement already satisfied: typer<1.0.0,>=0.3.0 in /usr/local/lib/python3.11/dist-packages (from spacy) (0.15.3)\n",
            "Requirement already satisfied: tqdm<5.0.0,>=4.38.0 in /usr/local/lib/python3.11/dist-packages (from spacy) (4.67.1)\n",
            "Requirement already satisfied: numpy>=1.19.0 in /usr/local/lib/python3.11/dist-packages (from spacy) (2.0.2)\n",
            "Requirement already satisfied: requests<3.0.0,>=2.13.0 in /usr/local/lib/python3.11/dist-packages (from spacy) (2.32.3)\n",
            "Requirement already satisfied: pydantic!=1.8,!=1.8.1,<3.0.0,>=1.7.4 in /usr/local/lib/python3.11/dist-packages (from spacy) (2.11.3)\n",
            "Requirement already satisfied: jinja2 in /usr/local/lib/python3.11/dist-packages (from spacy) (3.1.6)\n",
            "Requirement already satisfied: setuptools in /usr/local/lib/python3.11/dist-packages (from spacy) (75.2.0)\n",
            "Requirement already satisfied: packaging>=20.0 in /usr/local/lib/python3.11/dist-packages (from spacy) (24.2)\n",
            "Requirement already satisfied: langcodes<4.0.0,>=3.2.0 in /usr/local/lib/python3.11/dist-packages (from spacy) (3.5.0)\n",
            "Requirement already satisfied: language-data>=1.2 in /usr/local/lib/python3.11/dist-packages (from langcodes<4.0.0,>=3.2.0->spacy) (1.3.0)\n",
            "Requirement already satisfied: annotated-types>=0.6.0 in /usr/local/lib/python3.11/dist-packages (from pydantic!=1.8,!=1.8.1,<3.0.0,>=1.7.4->spacy) (0.7.0)\n",
            "Requirement already satisfied: pydantic-core==2.33.1 in /usr/local/lib/python3.11/dist-packages (from pydantic!=1.8,!=1.8.1,<3.0.0,>=1.7.4->spacy) (2.33.1)\n",
            "Requirement already satisfied: typing-extensions>=4.12.2 in /usr/local/lib/python3.11/dist-packages (from pydantic!=1.8,!=1.8.1,<3.0.0,>=1.7.4->spacy) (4.13.2)\n",
            "Requirement already satisfied: typing-inspection>=0.4.0 in /usr/local/lib/python3.11/dist-packages (from pydantic!=1.8,!=1.8.1,<3.0.0,>=1.7.4->spacy) (0.4.0)\n",
            "Requirement already satisfied: charset-normalizer<4,>=2 in /usr/local/lib/python3.11/dist-packages (from requests<3.0.0,>=2.13.0->spacy) (3.4.1)\n",
            "Requirement already satisfied: idna<4,>=2.5 in /usr/local/lib/python3.11/dist-packages (from requests<3.0.0,>=2.13.0->spacy) (3.10)\n",
            "Requirement already satisfied: urllib3<3,>=1.21.1 in /usr/local/lib/python3.11/dist-packages (from requests<3.0.0,>=2.13.0->spacy) (2.4.0)\n",
            "Requirement already satisfied: certifi>=2017.4.17 in /usr/local/lib/python3.11/dist-packages (from requests<3.0.0,>=2.13.0->spacy) (2025.4.26)\n",
            "Requirement already satisfied: blis<1.4.0,>=1.3.0 in /usr/local/lib/python3.11/dist-packages (from thinc<8.4.0,>=8.3.4->spacy) (1.3.0)\n",
            "Requirement already satisfied: confection<1.0.0,>=0.0.1 in /usr/local/lib/python3.11/dist-packages (from thinc<8.4.0,>=8.3.4->spacy) (0.1.5)\n",
            "Requirement already satisfied: click>=8.0.0 in /usr/local/lib/python3.11/dist-packages (from typer<1.0.0,>=0.3.0->spacy) (8.1.8)\n",
            "Requirement already satisfied: shellingham>=1.3.0 in /usr/local/lib/python3.11/dist-packages (from typer<1.0.0,>=0.3.0->spacy) (1.5.4)\n",
            "Requirement already satisfied: rich>=10.11.0 in /usr/local/lib/python3.11/dist-packages (from typer<1.0.0,>=0.3.0->spacy) (13.9.4)\n",
            "Requirement already satisfied: cloudpathlib<1.0.0,>=0.7.0 in /usr/local/lib/python3.11/dist-packages (from weasel<0.5.0,>=0.1.0->spacy) (0.21.0)\n",
            "Requirement already satisfied: smart-open<8.0.0,>=5.2.1 in /usr/local/lib/python3.11/dist-packages (from weasel<0.5.0,>=0.1.0->spacy) (7.1.0)\n",
            "Requirement already satisfied: MarkupSafe>=2.0 in /usr/local/lib/python3.11/dist-packages (from jinja2->spacy) (3.0.2)\n",
            "Requirement already satisfied: marisa-trie>=1.1.0 in /usr/local/lib/python3.11/dist-packages (from language-data>=1.2->langcodes<4.0.0,>=3.2.0->spacy) (1.2.1)\n",
            "Requirement already satisfied: markdown-it-py>=2.2.0 in /usr/local/lib/python3.11/dist-packages (from rich>=10.11.0->typer<1.0.0,>=0.3.0->spacy) (3.0.0)\n",
            "Requirement already satisfied: pygments<3.0.0,>=2.13.0 in /usr/local/lib/python3.11/dist-packages (from rich>=10.11.0->typer<1.0.0,>=0.3.0->spacy) (2.19.1)\n",
            "Requirement already satisfied: wrapt in /usr/local/lib/python3.11/dist-packages (from smart-open<8.0.0,>=5.2.1->weasel<0.5.0,>=0.1.0->spacy) (1.17.2)\n",
            "Requirement already satisfied: mdurl~=0.1 in /usr/local/lib/python3.11/dist-packages (from markdown-it-py>=2.2.0->rich>=10.11.0->typer<1.0.0,>=0.3.0->spacy) (0.1.2)\n"
          ]
        }
      ],
      "source": [
        "!pip install spacy"
      ]
    },
    {
      "cell_type": "code",
      "execution_count": 9,
      "metadata": {
        "colab": {
          "base_uri": "https://localhost:8080/"
        },
        "id": "djFdymljM6ax",
        "outputId": "ffd72475-4aab-4b15-e4f7-cc423a4580a8"
      },
      "outputs": [
        {
          "name": "stdout",
          "output_type": "stream",
          "text": [
            "Requirement already satisfied: spacy[transformers] in /usr/local/lib/python3.11/dist-packages (3.8.5)\n",
            "Requirement already satisfied: spacy-legacy<3.1.0,>=3.0.11 in /usr/local/lib/python3.11/dist-packages (from spacy[transformers]) (3.0.12)\n",
            "Requirement already satisfied: spacy-loggers<2.0.0,>=1.0.0 in /usr/local/lib/python3.11/dist-packages (from spacy[transformers]) (1.0.5)\n",
            "Requirement already satisfied: murmurhash<1.1.0,>=0.28.0 in /usr/local/lib/python3.11/dist-packages (from spacy[transformers]) (1.0.12)\n",
            "Requirement already satisfied: cymem<2.1.0,>=2.0.2 in /usr/local/lib/python3.11/dist-packages (from spacy[transformers]) (2.0.11)\n",
            "Requirement already satisfied: preshed<3.1.0,>=3.0.2 in /usr/local/lib/python3.11/dist-packages (from spacy[transformers]) (3.0.9)\n",
            "Requirement already satisfied: thinc<8.4.0,>=8.3.4 in /usr/local/lib/python3.11/dist-packages (from spacy[transformers]) (8.3.6)\n",
            "Requirement already satisfied: wasabi<1.2.0,>=0.9.1 in /usr/local/lib/python3.11/dist-packages (from spacy[transformers]) (1.1.3)\n",
            "Requirement already satisfied: srsly<3.0.0,>=2.4.3 in /usr/local/lib/python3.11/dist-packages (from spacy[transformers]) (2.5.1)\n",
            "Requirement already satisfied: catalogue<2.1.0,>=2.0.6 in /usr/local/lib/python3.11/dist-packages (from spacy[transformers]) (2.0.10)\n",
            "Requirement already satisfied: weasel<0.5.0,>=0.1.0 in /usr/local/lib/python3.11/dist-packages (from spacy[transformers]) (0.4.1)\n",
            "Requirement already satisfied: typer<1.0.0,>=0.3.0 in /usr/local/lib/python3.11/dist-packages (from spacy[transformers]) (0.15.3)\n",
            "Requirement already satisfied: tqdm<5.0.0,>=4.38.0 in /usr/local/lib/python3.11/dist-packages (from spacy[transformers]) (4.67.1)\n",
            "Requirement already satisfied: numpy>=1.19.0 in /usr/local/lib/python3.11/dist-packages (from spacy[transformers]) (2.0.2)\n",
            "Requirement already satisfied: requests<3.0.0,>=2.13.0 in /usr/local/lib/python3.11/dist-packages (from spacy[transformers]) (2.32.3)\n",
            "Requirement already satisfied: pydantic!=1.8,!=1.8.1,<3.0.0,>=1.7.4 in /usr/local/lib/python3.11/dist-packages (from spacy[transformers]) (2.11.3)\n",
            "Requirement already satisfied: jinja2 in /usr/local/lib/python3.11/dist-packages (from spacy[transformers]) (3.1.6)\n",
            "Requirement already satisfied: setuptools in /usr/local/lib/python3.11/dist-packages (from spacy[transformers]) (75.2.0)\n",
            "Requirement already satisfied: packaging>=20.0 in /usr/local/lib/python3.11/dist-packages (from spacy[transformers]) (24.2)\n",
            "Requirement already satisfied: langcodes<4.0.0,>=3.2.0 in /usr/local/lib/python3.11/dist-packages (from spacy[transformers]) (3.5.0)\n",
            "Collecting spacy_transformers<1.4.0,>=1.1.2 (from spacy[transformers])\n",
            "  Downloading spacy_transformers-1.3.8-cp311-cp311-manylinux_2_17_x86_64.manylinux2014_x86_64.whl.metadata (7.0 kB)\n",
            "Requirement already satisfied: language-data>=1.2 in /usr/local/lib/python3.11/dist-packages (from langcodes<4.0.0,>=3.2.0->spacy[transformers]) (1.3.0)\n",
            "Requirement already satisfied: annotated-types>=0.6.0 in /usr/local/lib/python3.11/dist-packages (from pydantic!=1.8,!=1.8.1,<3.0.0,>=1.7.4->spacy[transformers]) (0.7.0)\n",
            "Requirement already satisfied: pydantic-core==2.33.1 in /usr/local/lib/python3.11/dist-packages (from pydantic!=1.8,!=1.8.1,<3.0.0,>=1.7.4->spacy[transformers]) (2.33.1)\n",
            "Requirement already satisfied: typing-extensions>=4.12.2 in /usr/local/lib/python3.11/dist-packages (from pydantic!=1.8,!=1.8.1,<3.0.0,>=1.7.4->spacy[transformers]) (4.13.2)\n",
            "Requirement already satisfied: typing-inspection>=0.4.0 in /usr/local/lib/python3.11/dist-packages (from pydantic!=1.8,!=1.8.1,<3.0.0,>=1.7.4->spacy[transformers]) (0.4.0)\n",
            "Requirement already satisfied: charset-normalizer<4,>=2 in /usr/local/lib/python3.11/dist-packages (from requests<3.0.0,>=2.13.0->spacy[transformers]) (3.4.1)\n",
            "Requirement already satisfied: idna<4,>=2.5 in /usr/local/lib/python3.11/dist-packages (from requests<3.0.0,>=2.13.0->spacy[transformers]) (3.10)\n",
            "Requirement already satisfied: urllib3<3,>=1.21.1 in /usr/local/lib/python3.11/dist-packages (from requests<3.0.0,>=2.13.0->spacy[transformers]) (2.4.0)\n",
            "Requirement already satisfied: certifi>=2017.4.17 in /usr/local/lib/python3.11/dist-packages (from requests<3.0.0,>=2.13.0->spacy[transformers]) (2025.4.26)\n",
            "Collecting transformers<4.50.0,>=3.4.0 (from spacy_transformers<1.4.0,>=1.1.2->spacy[transformers])\n",
            "  Downloading transformers-4.49.0-py3-none-any.whl.metadata (44 kB)\n",
            "\u001b[2K     \u001b[90m━━━━━━━━━━━━━━━━━━━━━━━━━━━━━━━━━━━━━━━━\u001b[0m \u001b[32m44.0/44.0 kB\u001b[0m \u001b[31m2.5 MB/s\u001b[0m eta \u001b[36m0:00:00\u001b[0m\n",
            "\u001b[?25hRequirement already satisfied: torch>=1.8.0 in /usr/local/lib/python3.11/dist-packages (from spacy_transformers<1.4.0,>=1.1.2->spacy[transformers]) (2.6.0+cu124)\n",
            "Collecting spacy-alignments<1.0.0,>=0.7.2 (from spacy_transformers<1.4.0,>=1.1.2->spacy[transformers])\n",
            "  Downloading spacy_alignments-0.9.1-cp311-cp311-manylinux_2_17_x86_64.manylinux2014_x86_64.whl.metadata (2.7 kB)\n",
            "Requirement already satisfied: blis<1.4.0,>=1.3.0 in /usr/local/lib/python3.11/dist-packages (from thinc<8.4.0,>=8.3.4->spacy[transformers]) (1.3.0)\n",
            "Requirement already satisfied: confection<1.0.0,>=0.0.1 in /usr/local/lib/python3.11/dist-packages (from thinc<8.4.0,>=8.3.4->spacy[transformers]) (0.1.5)\n",
            "Requirement already satisfied: click>=8.0.0 in /usr/local/lib/python3.11/dist-packages (from typer<1.0.0,>=0.3.0->spacy[transformers]) (8.1.8)\n",
            "Requirement already satisfied: shellingham>=1.3.0 in /usr/local/lib/python3.11/dist-packages (from typer<1.0.0,>=0.3.0->spacy[transformers]) (1.5.4)\n",
            "Requirement already satisfied: rich>=10.11.0 in /usr/local/lib/python3.11/dist-packages (from typer<1.0.0,>=0.3.0->spacy[transformers]) (13.9.4)\n",
            "Requirement already satisfied: cloudpathlib<1.0.0,>=0.7.0 in /usr/local/lib/python3.11/dist-packages (from weasel<0.5.0,>=0.1.0->spacy[transformers]) (0.21.0)\n",
            "Requirement already satisfied: smart-open<8.0.0,>=5.2.1 in /usr/local/lib/python3.11/dist-packages (from weasel<0.5.0,>=0.1.0->spacy[transformers]) (7.1.0)\n",
            "Requirement already satisfied: MarkupSafe>=2.0 in /usr/local/lib/python3.11/dist-packages (from jinja2->spacy[transformers]) (3.0.2)\n",
            "Requirement already satisfied: marisa-trie>=1.1.0 in /usr/local/lib/python3.11/dist-packages (from language-data>=1.2->langcodes<4.0.0,>=3.2.0->spacy[transformers]) (1.2.1)\n",
            "Requirement already satisfied: markdown-it-py>=2.2.0 in /usr/local/lib/python3.11/dist-packages (from rich>=10.11.0->typer<1.0.0,>=0.3.0->spacy[transformers]) (3.0.0)\n",
            "Requirement already satisfied: pygments<3.0.0,>=2.13.0 in /usr/local/lib/python3.11/dist-packages (from rich>=10.11.0->typer<1.0.0,>=0.3.0->spacy[transformers]) (2.19.1)\n",
            "Requirement already satisfied: wrapt in /usr/local/lib/python3.11/dist-packages (from smart-open<8.0.0,>=5.2.1->weasel<0.5.0,>=0.1.0->spacy[transformers]) (1.17.2)\n",
            "Requirement already satisfied: filelock in /usr/local/lib/python3.11/dist-packages (from torch>=1.8.0->spacy_transformers<1.4.0,>=1.1.2->spacy[transformers]) (3.18.0)\n",
            "Requirement already satisfied: networkx in /usr/local/lib/python3.11/dist-packages (from torch>=1.8.0->spacy_transformers<1.4.0,>=1.1.2->spacy[transformers]) (3.4.2)\n",
            "Requirement already satisfied: fsspec in /usr/local/lib/python3.11/dist-packages (from torch>=1.8.0->spacy_transformers<1.4.0,>=1.1.2->spacy[transformers]) (2025.3.2)\n",
            "Collecting nvidia-cuda-nvrtc-cu12==12.4.127 (from torch>=1.8.0->spacy_transformers<1.4.0,>=1.1.2->spacy[transformers])\n",
            "  Downloading nvidia_cuda_nvrtc_cu12-12.4.127-py3-none-manylinux2014_x86_64.whl.metadata (1.5 kB)\n",
            "Collecting nvidia-cuda-runtime-cu12==12.4.127 (from torch>=1.8.0->spacy_transformers<1.4.0,>=1.1.2->spacy[transformers])\n",
            "  Downloading nvidia_cuda_runtime_cu12-12.4.127-py3-none-manylinux2014_x86_64.whl.metadata (1.5 kB)\n",
            "Collecting nvidia-cuda-cupti-cu12==12.4.127 (from torch>=1.8.0->spacy_transformers<1.4.0,>=1.1.2->spacy[transformers])\n",
            "  Downloading nvidia_cuda_cupti_cu12-12.4.127-py3-none-manylinux2014_x86_64.whl.metadata (1.6 kB)\n",
            "Collecting nvidia-cudnn-cu12==9.1.0.70 (from torch>=1.8.0->spacy_transformers<1.4.0,>=1.1.2->spacy[transformers])\n",
            "  Downloading nvidia_cudnn_cu12-9.1.0.70-py3-none-manylinux2014_x86_64.whl.metadata (1.6 kB)\n",
            "Collecting nvidia-cublas-cu12==12.4.5.8 (from torch>=1.8.0->spacy_transformers<1.4.0,>=1.1.2->spacy[transformers])\n",
            "  Downloading nvidia_cublas_cu12-12.4.5.8-py3-none-manylinux2014_x86_64.whl.metadata (1.5 kB)\n",
            "Collecting nvidia-cufft-cu12==11.2.1.3 (from torch>=1.8.0->spacy_transformers<1.4.0,>=1.1.2->spacy[transformers])\n",
            "  Downloading nvidia_cufft_cu12-11.2.1.3-py3-none-manylinux2014_x86_64.whl.metadata (1.5 kB)\n",
            "Collecting nvidia-curand-cu12==10.3.5.147 (from torch>=1.8.0->spacy_transformers<1.4.0,>=1.1.2->spacy[transformers])\n",
            "  Downloading nvidia_curand_cu12-10.3.5.147-py3-none-manylinux2014_x86_64.whl.metadata (1.5 kB)\n",
            "Collecting nvidia-cusolver-cu12==11.6.1.9 (from torch>=1.8.0->spacy_transformers<1.4.0,>=1.1.2->spacy[transformers])\n",
            "  Downloading nvidia_cusolver_cu12-11.6.1.9-py3-none-manylinux2014_x86_64.whl.metadata (1.6 kB)\n",
            "Collecting nvidia-cusparse-cu12==12.3.1.170 (from torch>=1.8.0->spacy_transformers<1.4.0,>=1.1.2->spacy[transformers])\n",
            "  Downloading nvidia_cusparse_cu12-12.3.1.170-py3-none-manylinux2014_x86_64.whl.metadata (1.6 kB)\n",
            "Requirement already satisfied: nvidia-cusparselt-cu12==0.6.2 in /usr/local/lib/python3.11/dist-packages (from torch>=1.8.0->spacy_transformers<1.4.0,>=1.1.2->spacy[transformers]) (0.6.2)\n",
            "Requirement already satisfied: nvidia-nccl-cu12==2.21.5 in /usr/local/lib/python3.11/dist-packages (from torch>=1.8.0->spacy_transformers<1.4.0,>=1.1.2->spacy[transformers]) (2.21.5)\n",
            "Requirement already satisfied: nvidia-nvtx-cu12==12.4.127 in /usr/local/lib/python3.11/dist-packages (from torch>=1.8.0->spacy_transformers<1.4.0,>=1.1.2->spacy[transformers]) (12.4.127)\n",
            "Collecting nvidia-nvjitlink-cu12==12.4.127 (from torch>=1.8.0->spacy_transformers<1.4.0,>=1.1.2->spacy[transformers])\n",
            "  Downloading nvidia_nvjitlink_cu12-12.4.127-py3-none-manylinux2014_x86_64.whl.metadata (1.5 kB)\n",
            "Requirement already satisfied: triton==3.2.0 in /usr/local/lib/python3.11/dist-packages (from torch>=1.8.0->spacy_transformers<1.4.0,>=1.1.2->spacy[transformers]) (3.2.0)\n",
            "Requirement already satisfied: sympy==1.13.1 in /usr/local/lib/python3.11/dist-packages (from torch>=1.8.0->spacy_transformers<1.4.0,>=1.1.2->spacy[transformers]) (1.13.1)\n",
            "Requirement already satisfied: mpmath<1.4,>=1.1.0 in /usr/local/lib/python3.11/dist-packages (from sympy==1.13.1->torch>=1.8.0->spacy_transformers<1.4.0,>=1.1.2->spacy[transformers]) (1.3.0)\n",
            "Requirement already satisfied: huggingface-hub<1.0,>=0.26.0 in /usr/local/lib/python3.11/dist-packages (from transformers<4.50.0,>=3.4.0->spacy_transformers<1.4.0,>=1.1.2->spacy[transformers]) (0.30.2)\n",
            "Requirement already satisfied: pyyaml>=5.1 in /usr/local/lib/python3.11/dist-packages (from transformers<4.50.0,>=3.4.0->spacy_transformers<1.4.0,>=1.1.2->spacy[transformers]) (6.0.2)\n",
            "Requirement already satisfied: regex!=2019.12.17 in /usr/local/lib/python3.11/dist-packages (from transformers<4.50.0,>=3.4.0->spacy_transformers<1.4.0,>=1.1.2->spacy[transformers]) (2024.11.6)\n",
            "Requirement already satisfied: tokenizers<0.22,>=0.21 in /usr/local/lib/python3.11/dist-packages (from transformers<4.50.0,>=3.4.0->spacy_transformers<1.4.0,>=1.1.2->spacy[transformers]) (0.21.1)\n",
            "Requirement already satisfied: safetensors>=0.4.1 in /usr/local/lib/python3.11/dist-packages (from transformers<4.50.0,>=3.4.0->spacy_transformers<1.4.0,>=1.1.2->spacy[transformers]) (0.5.3)\n",
            "Requirement already satisfied: mdurl~=0.1 in /usr/local/lib/python3.11/dist-packages (from markdown-it-py>=2.2.0->rich>=10.11.0->typer<1.0.0,>=0.3.0->spacy[transformers]) (0.1.2)\n",
            "Downloading spacy_transformers-1.3.8-cp311-cp311-manylinux_2_17_x86_64.manylinux2014_x86_64.whl (756 kB)\n",
            "\u001b[2K   \u001b[90m━━━━━━━━━━━━━━━━━━━━━━━━━━━━━━━━━━━━━━━━\u001b[0m \u001b[32m756.2/756.2 kB\u001b[0m \u001b[31m20.3 MB/s\u001b[0m eta \u001b[36m0:00:00\u001b[0m\n",
            "\u001b[?25hDownloading spacy_alignments-0.9.1-cp311-cp311-manylinux_2_17_x86_64.manylinux2014_x86_64.whl (313 kB)\n",
            "\u001b[2K   \u001b[90m━━━━━━━━━━━━━━━━━━━━━━━━━━━━━━━━━━━━━━━━\u001b[0m \u001b[32m314.0/314.0 kB\u001b[0m \u001b[31m29.8 MB/s\u001b[0m eta \u001b[36m0:00:00\u001b[0m\n",
            "\u001b[?25hDownloading nvidia_cublas_cu12-12.4.5.8-py3-none-manylinux2014_x86_64.whl (363.4 MB)\n",
            "\u001b[2K   \u001b[90m━━━━━━━━━━━━━━━━━━━━━━━━━━━━━━━━━━━━━━━━\u001b[0m \u001b[32m363.4/363.4 MB\u001b[0m \u001b[31m1.4 MB/s\u001b[0m eta \u001b[36m0:00:00\u001b[0m\n",
            "\u001b[?25hDownloading nvidia_cuda_cupti_cu12-12.4.127-py3-none-manylinux2014_x86_64.whl (13.8 MB)\n",
            "\u001b[2K   \u001b[90m━━━━━━━━━━━━━━━━━━━━━━━━━━━━━━━━━━━━━━━━\u001b[0m \u001b[32m13.8/13.8 MB\u001b[0m \u001b[31m120.2 MB/s\u001b[0m eta \u001b[36m0:00:00\u001b[0m\n",
            "\u001b[?25hDownloading nvidia_cuda_nvrtc_cu12-12.4.127-py3-none-manylinux2014_x86_64.whl (24.6 MB)\n",
            "\u001b[2K   \u001b[90m━━━━━━━━━━━━━━━━━━━━━━━━━━━━━━━━━━━━━━━━\u001b[0m \u001b[32m24.6/24.6 MB\u001b[0m \u001b[31m86.3 MB/s\u001b[0m eta \u001b[36m0:00:00\u001b[0m\n",
            "\u001b[?25hDownloading nvidia_cuda_runtime_cu12-12.4.127-py3-none-manylinux2014_x86_64.whl (883 kB)\n",
            "\u001b[2K   \u001b[90m━━━━━━━━━━━━━━━━━━━━━━━━━━━━━━━━━━━━━━━━\u001b[0m \u001b[32m883.7/883.7 kB\u001b[0m \u001b[31m58.3 MB/s\u001b[0m eta \u001b[36m0:00:00\u001b[0m\n",
            "\u001b[?25hDownloading nvidia_cudnn_cu12-9.1.0.70-py3-none-manylinux2014_x86_64.whl (664.8 MB)\n",
            "\u001b[2K   \u001b[90m━━━━━━━━━━━━━━━━━━━━━━━━━━━━━━━━━━━━━━━━\u001b[0m \u001b[32m664.8/664.8 MB\u001b[0m \u001b[31m2.8 MB/s\u001b[0m eta \u001b[36m0:00:00\u001b[0m\n",
            "\u001b[?25hDownloading nvidia_cufft_cu12-11.2.1.3-py3-none-manylinux2014_x86_64.whl (211.5 MB)\n",
            "\u001b[2K   \u001b[90m━━━━━━━━━━━━━━━━━━━━━━━━━━━━━━━━━━━━━━━━\u001b[0m \u001b[32m211.5/211.5 MB\u001b[0m \u001b[31m3.0 MB/s\u001b[0m eta \u001b[36m0:00:00\u001b[0m\n",
            "\u001b[?25hDownloading nvidia_curand_cu12-10.3.5.147-py3-none-manylinux2014_x86_64.whl (56.3 MB)\n",
            "\u001b[2K   \u001b[90m━━━━━━━━━━━━━━━━━━━━━━━━━━━━━━━━━━━━━━━━\u001b[0m \u001b[32m56.3/56.3 MB\u001b[0m \u001b[31m10.8 MB/s\u001b[0m eta \u001b[36m0:00:00\u001b[0m\n",
            "\u001b[?25hDownloading nvidia_cusolver_cu12-11.6.1.9-py3-none-manylinux2014_x86_64.whl (127.9 MB)\n",
            "\u001b[2K   \u001b[90m━━━━━━━━━━━━━━━━━━━━━━━━━━━━━━━━━━━━━━━━\u001b[0m \u001b[32m127.9/127.9 MB\u001b[0m \u001b[31m9.0 MB/s\u001b[0m eta \u001b[36m0:00:00\u001b[0m\n",
            "\u001b[?25hDownloading nvidia_cusparse_cu12-12.3.1.170-py3-none-manylinux2014_x86_64.whl (207.5 MB)\n",
            "\u001b[2K   \u001b[90m━━━━━━━━━━━━━━━━━━━━━━━━━━━━━━━━━━━━━━━━\u001b[0m \u001b[32m207.5/207.5 MB\u001b[0m \u001b[31m6.3 MB/s\u001b[0m eta \u001b[36m0:00:00\u001b[0m\n",
            "\u001b[?25hDownloading nvidia_nvjitlink_cu12-12.4.127-py3-none-manylinux2014_x86_64.whl (21.1 MB)\n",
            "\u001b[2K   \u001b[90m━━━━━━━━━━━━━━━━━━━━━━━━━━━━━━━━━━━━━━━━\u001b[0m \u001b[32m21.1/21.1 MB\u001b[0m \u001b[31m26.8 MB/s\u001b[0m eta \u001b[36m0:00:00\u001b[0m\n",
            "\u001b[?25hDownloading transformers-4.49.0-py3-none-any.whl (10.0 MB)\n",
            "\u001b[2K   \u001b[90m━━━━━━━━━━━━━━━━━━━━━━━━━━━━━━━━━━━━━━━━\u001b[0m \u001b[32m10.0/10.0 MB\u001b[0m \u001b[31m28.3 MB/s\u001b[0m eta \u001b[36m0:00:00\u001b[0m\n",
            "\u001b[?25hInstalling collected packages: spacy-alignments, nvidia-nvjitlink-cu12, nvidia-curand-cu12, nvidia-cufft-cu12, nvidia-cuda-runtime-cu12, nvidia-cuda-nvrtc-cu12, nvidia-cuda-cupti-cu12, nvidia-cublas-cu12, nvidia-cusparse-cu12, nvidia-cudnn-cu12, nvidia-cusolver-cu12, transformers, spacy_transformers\n",
            "  Attempting uninstall: nvidia-nvjitlink-cu12\n",
            "    Found existing installation: nvidia-nvjitlink-cu12 12.5.82\n",
            "    Uninstalling nvidia-nvjitlink-cu12-12.5.82:\n",
            "      Successfully uninstalled nvidia-nvjitlink-cu12-12.5.82\n",
            "  Attempting uninstall: nvidia-curand-cu12\n",
            "    Found existing installation: nvidia-curand-cu12 10.3.6.82\n",
            "    Uninstalling nvidia-curand-cu12-10.3.6.82:\n",
            "      Successfully uninstalled nvidia-curand-cu12-10.3.6.82\n",
            "  Attempting uninstall: nvidia-cufft-cu12\n",
            "    Found existing installation: nvidia-cufft-cu12 11.2.3.61\n",
            "    Uninstalling nvidia-cufft-cu12-11.2.3.61:\n",
            "      Successfully uninstalled nvidia-cufft-cu12-11.2.3.61\n",
            "  Attempting uninstall: nvidia-cuda-runtime-cu12\n",
            "    Found existing installation: nvidia-cuda-runtime-cu12 12.5.82\n",
            "    Uninstalling nvidia-cuda-runtime-cu12-12.5.82:\n",
            "      Successfully uninstalled nvidia-cuda-runtime-cu12-12.5.82\n",
            "  Attempting uninstall: nvidia-cuda-nvrtc-cu12\n",
            "    Found existing installation: nvidia-cuda-nvrtc-cu12 12.5.82\n",
            "    Uninstalling nvidia-cuda-nvrtc-cu12-12.5.82:\n",
            "      Successfully uninstalled nvidia-cuda-nvrtc-cu12-12.5.82\n",
            "  Attempting uninstall: nvidia-cuda-cupti-cu12\n",
            "    Found existing installation: nvidia-cuda-cupti-cu12 12.5.82\n",
            "    Uninstalling nvidia-cuda-cupti-cu12-12.5.82:\n",
            "      Successfully uninstalled nvidia-cuda-cupti-cu12-12.5.82\n",
            "  Attempting uninstall: nvidia-cublas-cu12\n",
            "    Found existing installation: nvidia-cublas-cu12 12.5.3.2\n",
            "    Uninstalling nvidia-cublas-cu12-12.5.3.2:\n",
            "      Successfully uninstalled nvidia-cublas-cu12-12.5.3.2\n",
            "  Attempting uninstall: nvidia-cusparse-cu12\n",
            "    Found existing installation: nvidia-cusparse-cu12 12.5.1.3\n",
            "    Uninstalling nvidia-cusparse-cu12-12.5.1.3:\n",
            "      Successfully uninstalled nvidia-cusparse-cu12-12.5.1.3\n",
            "  Attempting uninstall: nvidia-cudnn-cu12\n",
            "    Found existing installation: nvidia-cudnn-cu12 9.3.0.75\n",
            "    Uninstalling nvidia-cudnn-cu12-9.3.0.75:\n",
            "      Successfully uninstalled nvidia-cudnn-cu12-9.3.0.75\n",
            "  Attempting uninstall: nvidia-cusolver-cu12\n",
            "    Found existing installation: nvidia-cusolver-cu12 11.6.3.83\n",
            "    Uninstalling nvidia-cusolver-cu12-11.6.3.83:\n",
            "      Successfully uninstalled nvidia-cusolver-cu12-11.6.3.83\n",
            "  Attempting uninstall: transformers\n",
            "    Found existing installation: transformers 4.51.3\n",
            "    Uninstalling transformers-4.51.3:\n",
            "      Successfully uninstalled transformers-4.51.3\n",
            "Successfully installed nvidia-cublas-cu12-12.4.5.8 nvidia-cuda-cupti-cu12-12.4.127 nvidia-cuda-nvrtc-cu12-12.4.127 nvidia-cuda-runtime-cu12-12.4.127 nvidia-cudnn-cu12-9.1.0.70 nvidia-cufft-cu12-11.2.1.3 nvidia-curand-cu12-10.3.5.147 nvidia-cusolver-cu12-11.6.1.9 nvidia-cusparse-cu12-12.3.1.170 nvidia-nvjitlink-cu12-12.4.127 spacy-alignments-0.9.1 spacy_transformers-1.3.8 transformers-4.49.0\n"
          ]
        }
      ],
      "source": [
        "!pip install -U spacy[transformers]"
      ]
    },
    {
      "cell_type": "code",
      "execution_count": 1,
      "metadata": {
        "colab": {
          "base_uri": "https://localhost:8080/"
        },
        "id": "vq6_d_u5M6dl",
        "outputId": "9e0f525b-abeb-40b3-ba47-3c94ccf03f2f"
      },
      "outputs": [
        {
          "name": "stdout",
          "output_type": "stream",
          "text": [
            "Requirement already satisfied: srsly in /usr/local/lib/python3.11/dist-packages (2.5.1)\n",
            "Requirement already satisfied: catalogue<2.1.0,>=2.0.3 in /usr/local/lib/python3.11/dist-packages (from srsly) (2.0.10)\n"
          ]
        }
      ],
      "source": [
        "!pip install srsly"
      ]
    },
    {
      "cell_type": "code",
      "execution_count": 10,
      "metadata": {
        "id": "HEKzAzgVM6gF"
      },
      "outputs": [],
      "source": [
        "import json\n",
        "\n",
        "with open(\"spacy_training_data.json\", \"r\") as f:\n",
        "    resume_data = json.load(f)"
      ]
    },
    {
      "cell_type": "code",
      "execution_count": 11,
      "metadata": {
        "colab": {
          "base_uri": "https://localhost:8080/"
        },
        "id": "95BrtsMwM6ir",
        "outputId": "2b88efed-5d33-43b0-a084-6404f94c2fd4"
      },
      "outputs": [
        {
          "data": {
            "text/plain": [
              "2961"
            ]
          },
          "execution_count": 11,
          "metadata": {},
          "output_type": "execute_result"
        }
      ],
      "source": [
        "len(resume_data)"
      ]
    },
    {
      "cell_type": "code",
      "execution_count": 12,
      "metadata": {
        "colab": {
          "base_uri": "https://localhost:8080/"
        },
        "id": "MVni5PnsM6lP",
        "outputId": "70ca7cc0-d392-4163-dba4-c74943015561"
      },
      "outputs": [
        {
          "data": {
            "text/plain": [
              "['Ankita Nagendra Babar babarankita112@gmail.com | 8329004204   Strong proficiency in HTML5, CSS3 and JavaScript   Strong proficiency in JavaScript, including DOM manipulation and JavaScript object model   Hands-on knowledge on ReactJs, Redux   Familiarity with newer specifications of ECMAScript 6   Ability to understand business requirements and translate them into technical requirements   A knack for benchmarking and optimization   Familiarity with code versioning tools (Git)   Understanding of responsive web development with Bootstrap.   Strong verbal and written communication skills. WORK EXPERIENCE O2 Soft Solutions, Pune Nov 2019   Dec2021 Successfully developed and maintained School ERP. Was responsible for developing modules, maintaining and testing them. EDUCATION University of Pune, Pune.   M.E. (Computer Engineering) 2016 First Class(7.5 SGPA) from TSSM s Bhivarabai Sawant College Of Engineering and research, Narhe, Pune   B.E. (Computer Engineering) 2014 Higher Second Class (58.8%) from P.D.E.A.s College Of Engineering, Manjari, Hadapsar, Pune. PROJECTS BRIEF 1. O2 Soft Solutions Overview:   School App and ERP including training to staff at any location.   The app covers every aspect of school management and enhances management capacity and performance of school.   Helps schools to conduct messages Technology: ReactJS, Redux, HTML5, CSS3, ECMAScript 6 PUBLICATIONS: Published the paper titled  Survey on a Modified Approach for Personalized knowledge Discovery Framework for Context Aware Assisted Healthcare  in International Journal of Advanced Research in Computer Science and Management studies (ISSN: 2321-7782) Published the paper titled  A Modified Approach for Personalized Knowledge Discovery Framework for Context Aware Assisted Healthcare  in International Journal of Innovative Research in Computer and Communication Engineering and Research (IJIRCCE) Vol.4 ,Issue 06, June 2016 PERSONAL DETAILS Name: Ankita Nagendra Babar Date of Birth: 22nd Dec 1989 Gender: Female Marital Status: Married Address: Flat No.   C5, Chintamani Garden, Near Jijai Garden, Tapodham Rd, Warje, Pune 411058. DECLARATION Declaration I hereby declare that the above-mentioned information is correct up to my knowledge and I bear the responsibility for the correctness of the above-mentioned particulars. Place: Pune (Ankita Babar)',\n",
              " {'entities': [[0, 21, 'PERSON'],\n",
              "   [22, 46, 'EMAIL'],\n",
              "   [49, 59, 'PHONE'],\n",
              "   [628, 632, 'LOC'],\n",
              "   [84, 89, 'SKILL'],\n",
              "   [91, 95, 'SKILL'],\n",
              "   [100, 110, 'SKILL'],\n",
              "   [157, 173, 'SKILL'],\n",
              "   [178, 201, 'SKILL'],\n",
              "   [226, 233, 'SKILL'],\n",
              "   [235, 240, 'SKILL'],\n",
              "   [284, 296, 'SKILL'],\n",
              "   [476, 479, 'SKILL'],\n",
              "   [532, 541, 'SKILL'],\n",
              "   [500, 526, 'SKILL'],\n",
              "   [810, 837, 'DEGREE'],\n",
              "   [870, 943, 'ORG'],\n",
              "   [838, 842, 'DATE'],\n",
              "   [946, 973, 'DEGREE'],\n",
              "   [1012, 1069, 'ORG'],\n",
              "   [974, 978, 'DATE'],\n",
              "   [1119, 1137, 'PROJECT_TITLE'],\n",
              "   [609, 626, 'PROJECT_ORG']]}]"
            ]
          },
          "execution_count": 12,
          "metadata": {},
          "output_type": "execute_result"
        }
      ],
      "source": [
        "resume_data[0]"
      ]
    },
    {
      "cell_type": "code",
      "execution_count": 13,
      "metadata": {
        "colab": {
          "base_uri": "https://localhost:8080/"
        },
        "id": "QFWlwqT4M6oJ",
        "outputId": "60cc2967-48ea-47e4-ea53-061ccd1f9379"
      },
      "outputs": [
        {
          "name": "stdout",
          "output_type": "stream",
          "text": [
            "\u001b[38;5;2m✔ Auto-filled config with all values\u001b[0m\n",
            "\u001b[38;5;2m✔ Saved config\u001b[0m\n",
            "config.cfg\n",
            "You can now add your data and train your pipeline:\n",
            "python -m spacy train config.cfg --paths.train ./train.spacy --paths.dev ./dev.spacy\n"
          ]
        }
      ],
      "source": [
        "!python -m spacy init fill-config /content/base_config.cfg ./config.cfg"
      ]
    },
    {
      "cell_type": "code",
      "execution_count": 20,
      "metadata": {
        "id": "lucHRsfvNYyV"
      },
      "outputs": [],
      "source": [
        "import spacy\n",
        "import random\n",
        "from spacy.tokens import DocBin\n",
        "from spacy.training import Example\n",
        "from tqdm import tqdm\n",
        "from sklearn.model_selection import train_test_split"
      ]
    },
    {
      "cell_type": "code",
      "execution_count": 21,
      "metadata": {
        "id": "PYOuMwOYNYu2"
      },
      "outputs": [],
      "source": [
        "unique_data = {}\n",
        "for text, ann in resume_data:\n",
        "    key = text.strip().lower()\n",
        "    if key not in unique_data:\n",
        "        unique_data[key] = (text, ann)\n",
        "\n",
        "deduped_data = list(unique_data.values())\n",
        "random.seed(42)\n",
        "random.shuffle(deduped_data)"
      ]
    },
    {
      "cell_type": "code",
      "execution_count": 25,
      "metadata": {
        "colab": {
          "base_uri": "https://localhost:8080/"
        },
        "id": "KXM_HoRCT08O",
        "outputId": "0b91731d-9bce-4647-8f17-8bc87f115e17"
      },
      "outputs": [
        {
          "data": {
            "text/plain": [
              "2701"
            ]
          },
          "execution_count": 25,
          "metadata": {},
          "output_type": "execute_result"
        }
      ],
      "source": [
        "len(deduped_data)"
      ]
    },
    {
      "cell_type": "code",
      "execution_count": 22,
      "metadata": {
        "id": "QSUr0uLtNYsO"
      },
      "outputs": [],
      "source": [
        "train_data, dev_data = train_test_split(deduped_data, test_size=0.2, random_state=42)"
      ]
    },
    {
      "cell_type": "code",
      "execution_count": 23,
      "metadata": {
        "colab": {
          "base_uri": "https://localhost:8080/"
        },
        "id": "xqsMkIrCRDOQ",
        "outputId": "4dbeaa77-c0b5-4c55-ba3f-99683107f8b9"
      },
      "outputs": [
        {
          "data": {
            "text/plain": [
              "2160"
            ]
          },
          "execution_count": 23,
          "metadata": {},
          "output_type": "execute_result"
        }
      ],
      "source": [
        "len(train_data)"
      ]
    },
    {
      "cell_type": "code",
      "execution_count": 24,
      "metadata": {
        "colab": {
          "base_uri": "https://localhost:8080/"
        },
        "id": "zJNsvnH6RDRc",
        "outputId": "0798202e-f407-4b78-c53c-ee4ff4c02bb9"
      },
      "outputs": [
        {
          "data": {
            "text/plain": [
              "541"
            ]
          },
          "execution_count": 24,
          "metadata": {},
          "output_type": "execute_result"
        }
      ],
      "source": [
        "len(dev_data)"
      ]
    },
    {
      "cell_type": "code",
      "execution_count": 26,
      "metadata": {
        "colab": {
          "base_uri": "https://localhost:8080/"
        },
        "id": "-Ircv5GFNYpM",
        "outputId": "233899de-77ba-40f3-d582-05de742da016"
      },
      "outputs": [
        {
          "name": "stdout",
          "output_type": "stream",
          "text": [
            "Overlapping texts: 0\n"
          ]
        }
      ],
      "source": [
        "train_texts = {text.strip().lower() for text, _ in train_data}\n",
        "dev_texts = {text.strip().lower() for text, _ in dev_data}\n",
        "overlap = train_texts.intersection(dev_texts)\n",
        "\n",
        "print(f\"Overlapping texts: {len(overlap)}\")"
      ]
    },
    {
      "cell_type": "code",
      "execution_count": 27,
      "metadata": {
        "colab": {
          "base_uri": "https://localhost:8080/"
        },
        "id": "a7WMMH-QNYmd",
        "outputId": "affaef72-4f66-4276-ec35-19ca89f2ef6c"
      },
      "outputs": [
        {
          "name": "stderr",
          "output_type": "stream",
          "text": [
            "100%|██████████| 2160/2160 [00:15<00:00, 143.90it/s]\n",
            "100%|██████████| 541/541 [00:03<00:00, 167.00it/s]\n"
          ]
        },
        {
          "name": "stdout",
          "output_type": "stream",
          "text": [
            "train.spacy and dev.spacy created.\n"
          ]
        }
      ],
      "source": [
        "def save_data_to_spacy_file(data, nlp, output_path, log_path = None):\n",
        "    doc_bin = DocBin()\n",
        "    with open(log_path, \"w\") if log_path else open(\"/dev/null\", \"w\") as log_file:\n",
        "        for text, annot in tqdm(data):\n",
        "            doc = nlp.make_doc(text)\n",
        "            ents = []\n",
        "            entity_indices = set()\n",
        "\n",
        "            for start, end, label in annot[\"entities\"]:\n",
        "                if any(i in entity_indices for i in range(start, end)):\n",
        "                    continue\n",
        "                span = doc.char_span(start, end, label = label, alignment_mode = \"contract\")\n",
        "                if span is None:\n",
        "                    log_file.write(f\"Skipping entity [{label}] at {start}-{end}: {text[start:end]}\\n\")\n",
        "                    continue\n",
        "                ents.append(span)\n",
        "                entity_indices.update(range(start, end))\n",
        "\n",
        "            doc.ents = ents\n",
        "            doc_bin.add(doc)\n",
        "\n",
        "    doc_bin.to_disk(output_path)\n",
        "\n",
        "nlp = spacy.blank(\"en\")\n",
        "\n",
        "save_data_to_spacy_file(train_data, nlp, \"train.spacy\", log_path = \"skipped_entities.txt\")\n",
        "save_data_to_spacy_file(dev_data, nlp, \"dev.spacy\", log_path = \"skipped_entities.txt\")\n",
        "print(\"train.spacy and dev.spacy created.\")"
      ]
    },
    {
      "cell_type": "code",
      "execution_count": 28,
      "metadata": {
        "colab": {
          "base_uri": "https://localhost:8080/"
        },
        "id": "gZ13w-dbNYj0",
        "outputId": "53180517-06d6-45a6-f208-890904d97932"
      },
      "outputs": [
        {
          "name": "stdout",
          "output_type": "stream",
          "text": [
            "\u001b[38;5;2m✔ Created output directory: output\u001b[0m\n",
            "\u001b[38;5;4mℹ Saving to output directory: output\u001b[0m\n",
            "\u001b[38;5;4mℹ Using GPU: 0\u001b[0m\n",
            "\u001b[1m\n",
            "=========================== Initializing pipeline ===========================\u001b[0m\n",
            "tokenizer_config.json: 100% 25.0/25.0 [00:00<00:00, 194kB/s]\n",
            "config.json: 100% 481/481 [00:00<00:00, 4.17MB/s]\n",
            "vocab.json: 100% 899k/899k [00:00<00:00, 6.22MB/s]\n",
            "merges.txt: 100% 456k/456k [00:00<00:00, 3.14MB/s]\n",
            "tokenizer.json: 100% 1.36M/1.36M [00:00<00:00, 6.65MB/s]\n",
            "2025-05-04 17:57:53.739597: E external/local_xla/xla/stream_executor/cuda/cuda_fft.cc:477] Unable to register cuFFT factory: Attempting to register factory for plugin cuFFT when one has already been registered\n",
            "WARNING: All log messages before absl::InitializeLog() is called are written to STDERR\n",
            "E0000 00:00:1746381473.959619   16156 cuda_dnn.cc:8310] Unable to register cuDNN factory: Attempting to register factory for plugin cuDNN when one has already been registered\n",
            "E0000 00:00:1746381474.015889   16156 cuda_blas.cc:1418] Unable to register cuBLAS factory: Attempting to register factory for plugin cuBLAS when one has already been registered\n",
            "2025-05-04 17:57:54.485809: I tensorflow/core/platform/cpu_feature_guard.cc:210] This TensorFlow binary is optimized to use available CPU instructions in performance-critical operations.\n",
            "To enable the following instructions: AVX2 AVX512F FMA, in other operations, rebuild TensorFlow with the appropriate compiler flags.\n",
            "Xet Storage is enabled for this repo, but the 'hf_xet' package is not installed. Falling back to regular HTTP download. For better performance, install the package with: `pip install huggingface_hub[hf_xet]` or `pip install hf_xet`\n",
            "model.safetensors: 100% 499M/499M [00:01<00:00, 286MB/s]\n",
            "Some weights of RobertaModel were not initialized from the model checkpoint at roberta-base and are newly initialized: ['roberta.pooler.dense.bias', 'roberta.pooler.dense.weight']\n",
            "You should probably TRAIN this model on a down-stream task to be able to use it for predictions and inference.\n",
            "\u001b[38;5;2m✔ Initialized pipeline\u001b[0m\n",
            "\u001b[1m\n",
            "============================= Training pipeline =============================\u001b[0m\n",
            "\u001b[38;5;4mℹ Pipeline: ['transformer', 'ner']\u001b[0m\n",
            "\u001b[38;5;4mℹ Initial learn rate: 0.0\u001b[0m\n",
            "E    #       LOSS TRANS...  LOSS NER  ENTS_F  ENTS_P  ENTS_R  SCORE \n",
            "---  ------  -------------  --------  ------  ------  ------  ------\n",
            "Token indices sequence length is longer than the specified maximum sequence length for this model (542 > 512). Running this sequence through the model will result in indexing errors\n",
            "  0       0         196.01    448.77    0.00    0.00    0.00    0.00\n",
            "  0     100       27426.23  17439.11   11.89   38.15    7.04    0.17\n",
            "  0     200       38461.43   5660.09   25.98   32.75   21.52    0.27\n",
            "  0     300       19506.80   5539.13   31.77   33.91   29.89    0.32\n",
            "  1     400        3403.77   4650.11   36.58   33.37   40.46    0.37\n",
            "  1     500        4954.28   4839.53   40.21   43.98   37.04    0.40\n",
            "  1     600        2131.43   4238.94   42.47   39.18   46.36    0.43\n",
            "  2     700        7070.16   4184.95   45.29   47.75   43.07    0.45\n",
            "  2     800        1527.12   3768.46   44.12   41.66   46.88    0.44\n",
            "  2     900        1320.30   3728.88   46.71   41.80   52.92    0.47\n",
            "  2    1000        1920.45   3787.06   43.71   46.00   41.63    0.44\n",
            "  3    1100        1679.08   3741.87   45.55   53.66   39.56    0.46\n",
            "  3    1200        2689.97   3497.39   46.78   37.03   63.47    0.49\n",
            "  3    1300        2070.11   3591.69   49.12   53.61   45.33    0.49\n",
            "  4    1400        1214.88   3494.18   51.36   49.47   53.39    0.51\n",
            "  4    1500        1055.40   3083.44   51.68   52.03   51.33    0.52\n",
            "  4    1600        1089.33   3361.21   50.22   57.74   44.43    0.51\n",
            "  4    1700        1694.51   3237.96   54.38   52.75   56.12    0.54\n",
            "  5    1800        8452.51   3218.69   51.95   45.63   60.31    0.52\n",
            "  5    1900        2475.65   3243.45   53.80   47.50   62.01    0.54\n",
            "  5    2000         955.64   3001.48   53.77   54.58   52.99    0.54\n",
            "  6    2100        5888.95   2888.12   55.25   50.62   60.81    0.55\n",
            "  6    2200        3648.38   2952.92   53.72   48.02   60.96    0.54\n",
            "  6    2300         944.85   2880.52   54.44   49.67   60.24    0.55\n",
            "  6    2400         884.92   2749.01   54.34   49.79   59.81    0.55\n",
            "  7    2500        1426.19   2616.77   55.68   50.92   61.42    0.56\n",
            "  7    2600        7164.47   2874.37   55.85   54.70   57.06    0.56\n",
            "  7    2700       16153.96   3295.74   55.74   54.77   56.75    0.56\n",
            "  8    2800         764.70   2460.02   55.77   51.31   61.08    0.56\n",
            "  8    2900        1080.32   2642.80   55.63   50.45   62.00    0.56\n",
            "  8    3000        6089.60   3020.45   55.61   50.29   62.19    0.56\n",
            "  8    3100        2730.18   2663.85   55.61   50.29   62.19    0.56\n",
            "  9    3200        1230.69   2568.17   55.61   50.29   62.19    0.56\n",
            "  9    3300         824.35   2788.28   55.61   50.29   62.19    0.56\n",
            "  9    3400         927.39   2659.10   55.61   50.29   62.19    0.56\n",
            " 10    3500        1940.12   2463.54   55.61   50.29   62.19    0.56\n",
            " 10    3600        1260.14   2675.29   55.61   50.29   62.19    0.56\n",
            " 10    3700        7808.75   2728.18   55.61   50.29   62.19    0.56\n",
            " 11    3800         765.61   2529.61   55.61   50.29   62.19    0.56\n",
            " 11    3900        3673.37   2799.33   55.61   50.29   62.19    0.56\n",
            " 11    4000        8446.97   2754.46   55.61   50.29   62.19    0.56\n",
            " 11    4100         800.99   2668.27   55.61   50.29   62.19    0.56\n",
            " 12    4200        1850.43   2593.51   55.61   50.29   62.19    0.56\n",
            " 12    4300       10357.28   3021.73   55.61   50.29   62.19    0.56\n",
            " 12    4400        5186.61   2737.80   55.61   50.29   62.19    0.56\n",
            " 13    4500        1404.36   2726.67   55.61   50.29   62.19    0.56\n",
            " 13    4600        4107.42   2628.55   55.61   50.29   62.19    0.56\n",
            " 13    4700        4067.32   2784.66   55.61   50.29   62.19    0.56\n",
            " 13    4800         811.72   2745.70   55.61   50.29   62.19    0.56\n",
            " 14    4900        4696.73   2713.11   55.61   50.29   62.19    0.56\n",
            " 14    5000        8529.29   2636.17   55.61   50.29   62.19    0.56\n",
            " 14    5100         811.73   2835.37   55.61   50.29   62.19    0.56\n",
            " 15    5200        7876.69   2862.73   55.61   50.29   62.19    0.56\n",
            " 15    5300        1841.37   2685.27   55.61   50.29   62.19    0.56\n",
            " 15    5400        2046.85   2748.73   55.61   50.29   62.19    0.56\n",
            " 15    5500         719.25   2551.20   55.61   50.29   62.19    0.56\n",
            " 16    5600        5536.99   2921.27   55.61   50.29   62.19    0.56\n",
            " 16    5700        3603.97   2857.29   55.61   50.29   62.19    0.56\n",
            " 16    5800         926.45   2475.13   55.61   50.29   62.19    0.56\n",
            "Epoch 17:   0% 0/100 [00:00<?, ?it/s]\u001b[38;5;2m✔ Saved pipeline to output directory\u001b[0m\n",
            "output/model-last\n"
          ]
        }
      ],
      "source": [
        "!python -m spacy train config.cfg --output ./output --paths.train /content/train.spacy --paths.dev /content/dev.spacy --gpu-id 0"
      ]
    },
    {
      "cell_type": "code",
      "execution_count": 29,
      "metadata": {
        "colab": {
          "base_uri": "https://localhost:8080/"
        },
        "id": "1lKrZfpNNjhT",
        "outputId": "6e1853af-485a-4c64-e29c-1fe3ab67e1d1"
      },
      "outputs": [
        {
          "name": "stdout",
          "output_type": "stream",
          "text": [
            "\u001b[38;5;4mℹ Using GPU: 0\u001b[0m\n",
            "2025-05-04 19:12:01.677992: E external/local_xla/xla/stream_executor/cuda/cuda_fft.cc:477] Unable to register cuFFT factory: Attempting to register factory for plugin cuFFT when one has already been registered\n",
            "WARNING: All log messages before absl::InitializeLog() is called are written to STDERR\n",
            "E0000 00:00:1746385921.705846   34450 cuda_dnn.cc:8310] Unable to register cuDNN factory: Attempting to register factory for plugin cuDNN when one has already been registered\n",
            "E0000 00:00:1746385921.714145   34450 cuda_blas.cc:1418] Unable to register cuBLAS factory: Attempting to register factory for plugin cuBLAS when one has already been registered\n",
            "2025-05-04 19:12:01.746385: I tensorflow/core/platform/cpu_feature_guard.cc:210] This TensorFlow binary is optimized to use available CPU instructions in performance-critical operations.\n",
            "To enable the following instructions: AVX2 AVX512F FMA, in other operations, rebuild TensorFlow with the appropriate compiler flags.\n",
            "Token indices sequence length is longer than the specified maximum sequence length for this model (542 > 512). Running this sequence through the model will result in indexing errors\n",
            "\u001b[1m\n",
            "================================== Results ==================================\u001b[0m\n",
            "\n",
            "TOK     100.00\n",
            "NER P   49.81 \n",
            "NER R   60.93 \n",
            "NER F   54.81 \n",
            "SPEED   19554 \n",
            "\n",
            "\u001b[1m\n",
            "=============================== NER (per type) ===============================\u001b[0m\n",
            "\n",
            "                       P       R       F\n",
            "PERSON             66.26   83.92   74.05\n",
            "PHONE              80.15   97.56   88.00\n",
            "SKILL              48.54   62.20   54.52\n",
            "EMAIL              85.99   98.68   91.90\n",
            "ORG                52.04   57.98   54.85\n",
            "DATE               68.16   74.73   71.29\n",
            "DEGREE             66.19   75.41   70.50\n",
            "PROJECT_ORG        29.75   30.91   30.32\n",
            "PROJECT_TITLE      39.48   50.28   44.23\n",
            "LOC                38.86   62.94   48.05\n",
            "PROJECT_DURATION   47.88   36.12   41.18\n",
            "CERTIFICATION       0.00    0.00    0.00\n",
            "\n"
          ]
        }
      ],
      "source": [
        "!python -m spacy evaluate --gpu-id 0 output/model-best dev.spacy"
      ]
    },
    {
      "cell_type": "code",
      "execution_count": 31,
      "metadata": {
        "colab": {
          "base_uri": "https://localhost:8080/"
        },
        "id": "GNzCntSMNja5",
        "outputId": "cb2a266a-1da0-4fe5-c8cf-c6acfdd3cebd"
      },
      "outputs": [
        {
          "name": "stdout",
          "output_type": "stream",
          "text": [
            "Pune LOC\n"
          ]
        }
      ],
      "source": [
        "import spacy\n",
        "\n",
        "nlp = spacy.load(\"output/model-best\")\n",
        "doc = nlp(\"John Doe is a React developer from Pune with 5 years of experience.\")\n",
        "\n",
        "for ent in doc.ents:\n",
        "    print(ent.text, ent.label_)\n"
      ]
    },
    {
      "cell_type": "code",
      "execution_count": 32,
      "metadata": {
        "colab": {
          "base_uri": "https://localhost:8080/"
        },
        "id": "Yu5K2SK5NjX5",
        "outputId": "dcc47355-e623-4b7d-9f84-c960c78a679e"
      },
      "outputs": [
        {
          "name": "stdout",
          "output_type": "stream",
          "text": [
            "Collecting PyPDF2\n",
            "  Downloading pypdf2-3.0.1-py3-none-any.whl.metadata (6.8 kB)\n",
            "Downloading pypdf2-3.0.1-py3-none-any.whl (232 kB)\n",
            "\u001b[?25l   \u001b[90m━━━━━━━━━━━━━━━━━━━━━━━━━━━━━━━━━━━━━━━━\u001b[0m \u001b[32m0.0/232.6 kB\u001b[0m \u001b[31m?\u001b[0m eta \u001b[36m-:--:--\u001b[0m\r\u001b[2K   \u001b[90m━━━━━━━━━━━━━━━━━━━━━━━━━━━━━━━━━━━━━━━━\u001b[0m \u001b[32m232.6/232.6 kB\u001b[0m \u001b[31m6.7 MB/s\u001b[0m eta \u001b[36m0:00:00\u001b[0m\n",
            "\u001b[?25hInstalling collected packages: PyPDF2\n",
            "Successfully installed PyPDF2-3.0.1\n"
          ]
        }
      ],
      "source": [
        "!pip install PyPDF2"
      ]
    },
    {
      "cell_type": "code",
      "execution_count": 33,
      "metadata": {
        "colab": {
          "base_uri": "https://localhost:8080/"
        },
        "id": "02dXK6-5NjVC",
        "outputId": "5a6e1c29-a639-4e61-b8f8-23b7606e0c7a"
      },
      "outputs": [
        {
          "name": "stdout",
          "output_type": "stream",
          "text": [
            "Entities found in Resume:\n",
            "==============================\n",
            "Arpita Ghansham Badwaik --> PERSON\n",
            "+91 8483003504 --> PHONE\n",
            "arpita.badwaik4@gmail.com --> EMAIL\n",
            "Python --> SKILL\n",
            "Python 2 --> SKILL\n",
            "Python 3 --> SKILL\n",
            "Django --> SKILL\n",
            "Django 1.8 --> SKILL\n",
            "Django 3.0 --> SKILL\n",
            "GCP --> SKILL\n",
            "Cloud functions --> SKILL\n",
            "App Engine --> SKILL\n",
            "Firestore --> SKILL\n",
            "Cloud Scheduler --> SKILL\n",
            "PubSub --> SKILL\n",
            "Drive APIs --> SKILL\n",
            "AI and ML --> SKILL\n",
            "Pillow --> SKILL\n",
            "Numpy --> SKILL\n",
            "RDMS --> SKILL\n",
            "MySQL --> SKILL\n",
            "Postgres --> SKILL\n",
            "HTML --> SKILL\n",
            "Bootstrap --> SKILL\n",
            "CSS --> SKILL\n",
            "Tkinter --> SKILL\n",
            "JavaScript --> SKILL\n",
            "jQuery --> SKILL\n",
            "Ajax --> SKILL\n",
            "Git --> SKILL\n",
            "Rest API --> SKILL\n",
            "Asynchronous process --> SKILL\n",
            "State machines --> SKILL\n",
            "Signals --> SKILL\n",
            "Celery --> SKILL\n",
            "Cron tab --> SKILL\n",
            "Decorators --> SKILL\n",
            "Digital Ocean --> SKILL\n",
            "Nginx --> SKILL\n",
            "Firestore --> SKILL\n",
            "Google drive APIs --> SKILL\n",
            "Samunnati --> PROJECT_TITLE\n",
            "Nodejs --> SKILL\n",
            "Image To Sketch --> PROJECT_TITLE\n",
            "Dassault Systems (Solidworks) --> PROJECT_ORG\n",
            "Python --> SKILL\n",
            "Pillow --> SKILL\n",
            "Tkinter --> SKILL\n",
            "Image annotation tool --> PROJECT_TITLE\n",
            "Smart -360 Bynry technologies --> PROJECT_TITLE\n",
            "Postgres --> SKILL\n",
            "MRBD -CESC Calcutta Electric Supply Corporation --> PROJECT_ORG\n",
            "Celery --> SKILL\n",
            "NumPy --> SKILL\n",
            "Degree/Certificate --> DEGREE\n",
            "Bachelor of engineering (Information Technology) --> DEGREE\n",
            "SSGMCE Amravati University --> ORG\n",
            "2015 -2018 Diploma --> DATE\n",
            "Government Polytechnic college of engineer --> ORG\n",
            "2012 -2015 SSC --> DATE\n",
            "2011 -2012 Technical --> DATE\n",
            "LIBRARY MANAGEMENT SYSTEM --> PROJECT_TITLE\n",
            "PRO. RAM MEGHE College of Engineering, Amravati --> ORG\n",
            "GOVERNEMNT POLYTECHNIC AUTONOMOUS INSTITUTE OF AMRAVATI --> ORG\n"
          ]
        }
      ],
      "source": [
        "import spacy\n",
        "import re\n",
        "from PyPDF2 import PdfReader\n",
        "\n",
        "nlp = spacy.load(\"output/model-best\")\n",
        "\n",
        "def clean_resume(text):\n",
        "    text = re.sub(r'\\s+', ' ', text)\n",
        "    text = text.encode('ascii', errors='ignore').decode()\n",
        "    text = text.strip()\n",
        "    return text\n",
        "\n",
        "pdf_path = \"/content/Arpita_Python Developer_Atmecs_4yrs_Pune.pdf\"\n",
        "\n",
        "reader = PdfReader(pdf_path)\n",
        "extracted_text = ''\n",
        "for page in reader.pages:\n",
        "    if page.extract_text():\n",
        "        extracted_text += page.extract_text()\n",
        "\n",
        "cleaned_resume = clean_resume(extracted_text)\n",
        "\n",
        "doc = nlp(cleaned_resume)\n",
        "\n",
        "print(\"Entities found in Resume:\")\n",
        "print(\"=\"*30)\n",
        "for ent in doc.ents:\n",
        "    print(f\"{ent.text} --> {ent.label_}\")\n"
      ]
    },
    {
      "cell_type": "code",
      "execution_count": 34,
      "metadata": {
        "colab": {
          "base_uri": "https://localhost:8080/"
        },
        "id": "MK3SvgAfvd2S",
        "outputId": "da6fae1e-1438-416b-af23-81c007f0c580"
      },
      "outputs": [
        {
          "name": "stdout",
          "output_type": "stream",
          "text": [
            "Entities found in Resume:\n",
            "==============================\n",
            "Pradip Parkale --> PERSON\n",
            "8208052167/8237391043 --> PHONE\n",
            "pradipparkale269@gmail.com --> EMAIL\n",
            "Pune --> LOC\n",
            "Python --> SKILL\n",
            "Javascript --> SKILL\n",
            "ReactJS --> SKILL\n",
            "Flask --> SKILL\n",
            "Performance Testing --> SKILL\n",
            "Jenkins --> SKILL\n",
            "PostgreSQL --> SKILL\n",
            "Git --> SKILL\n",
            "SQLLite --> SKILL\n",
            "Jira --> SKILL\n",
            "SQLAlchemy --> SKILL\n",
            "Material UI --> SKILL\n",
            "Sep '17 - Present --> PROJECT_DURATION\n",
            "EDB Pune Pune --> PROJECT_ORG\n",
            "Oct '16 - Sep --> DATE\n",
            "Sedemac Pune Pune, MH --> ORG\n",
            "B. E. in Electronics and Tele- Comminication Jun --> DEGREE\n",
            "Pune university Pune, MH --> ORG\n",
            "VIIT Pune Diploma. in Electronics and Tele- Comminication Jun --> ORG\n",
            "MSBTC, Maharashtra --> ORG\n",
            "Goverment Polytechnic, Washim --> ORG\n",
            "JavaScript --> SKILL\n",
            "Python --> SKILL\n",
            "JQuery --> SKILL\n",
            "CSS --> SKILL\n",
            "HTML --> SKILL\n",
            "React.js --> SKILL\n",
            "Webpack --> SKILL\n",
            "Flask --> SKILL\n",
            "React Hooks --> SKILL\n",
            "Babel --> SKILL\n",
            "Jasmine --> SKILL\n",
            "SqlliteDB --> SKILL\n",
            "Bootstrap --> SKILL\n",
            "Flask --> SKILL\n",
            "-table --> SKILL\n",
            "react-virtulization --> SKILL\n",
            "Pycharm --> SKILL\n",
            "VSCode --> SKILL\n"
          ]
        }
      ],
      "source": [
        "import spacy\n",
        "import re\n",
        "from PyPDF2 import PdfReader\n",
        "\n",
        "nlp = spacy.load(\"output/model-best\")\n",
        "\n",
        "def clean_resume(text):\n",
        "    text = re.sub(r'\\s+', ' ', text)\n",
        "    text = text.encode('ascii', errors='ignore').decode()\n",
        "    text = text.strip()\n",
        "    return text\n",
        "\n",
        "pdf_path = \"/content/Naukri_PradipShankarParkale[5y_10m].pdf\"\n",
        "\n",
        "reader = PdfReader(pdf_path)\n",
        "extracted_text = ''\n",
        "for page in reader.pages:\n",
        "    if page.extract_text():\n",
        "        extracted_text += page.extract_text()\n",
        "\n",
        "cleaned_resume = clean_resume(extracted_text)\n",
        "\n",
        "doc = nlp(cleaned_resume)\n",
        "\n",
        "print(\"Entities found in Resume:\")\n",
        "print(\"=\"*30)\n",
        "for ent in doc.ents:\n",
        "    print(f\"{ent.text} --> {ent.label_}\")"
      ]
    },
    {
      "cell_type": "code",
      "execution_count": 36,
      "metadata": {
        "colab": {
          "base_uri": "https://localhost:8080/",
          "height": 36
        },
        "id": "U8tQf9xZNjSF",
        "outputId": "a874ede2-b630-45f8-c3fe-bd2c92561b38"
      },
      "outputs": [
        {
          "data": {
            "application/vnd.google.colaboratory.intrinsic+json": {
              "type": "string"
            },
            "text/plain": [
              "'/content/model-best.zip'"
            ]
          },
          "execution_count": 36,
          "metadata": {},
          "output_type": "execute_result"
        }
      ],
      "source": [
        "import shutil\n",
        "\n",
        "model_path = \"output/model-best\"\n",
        "\n",
        "zip_path = \"model-best.zip\"\n",
        "\n",
        "shutil.make_archive(\"model-best\", 'zip', model_path)"
      ]
    },
    {
      "cell_type": "code",
      "execution_count": 37,
      "metadata": {
        "colab": {
          "base_uri": "https://localhost:8080/",
          "height": 17
        },
        "id": "ti7-IK74NjO9",
        "outputId": "7f0b96dd-bba9-4c6b-c3aa-08a231b116c0"
      },
      "outputs": [
        {
          "data": {
            "application/javascript": "\n    async function download(id, filename, size) {\n      if (!google.colab.kernel.accessAllowed) {\n        return;\n      }\n      const div = document.createElement('div');\n      const label = document.createElement('label');\n      label.textContent = `Downloading \"${filename}\": `;\n      div.appendChild(label);\n      const progress = document.createElement('progress');\n      progress.max = size;\n      div.appendChild(progress);\n      document.body.appendChild(div);\n\n      const buffers = [];\n      let downloaded = 0;\n\n      const channel = await google.colab.kernel.comms.open(id);\n      // Send a message to notify the kernel that we're ready.\n      channel.send({})\n\n      for await (const message of channel.messages) {\n        // Send a message to notify the kernel that we're ready.\n        channel.send({})\n        if (message.buffers) {\n          for (const buffer of message.buffers) {\n            buffers.push(buffer);\n            downloaded += buffer.byteLength;\n            progress.value = downloaded;\n          }\n        }\n      }\n      const blob = new Blob(buffers, {type: 'application/binary'});\n      const a = document.createElement('a');\n      a.href = window.URL.createObjectURL(blob);\n      a.download = filename;\n      div.appendChild(a);\n      a.click();\n      div.remove();\n    }\n  ",
            "text/plain": [
              "<IPython.core.display.Javascript object>"
            ]
          },
          "metadata": {},
          "output_type": "display_data"
        },
        {
          "data": {
            "application/javascript": "download(\"download_012a5713-1185-433b-bc20-e4a117a979e3\", \"model-best.zip\", 442154118)",
            "text/plain": [
              "<IPython.core.display.Javascript object>"
            ]
          },
          "metadata": {},
          "output_type": "display_data"
        }
      ],
      "source": [
        "from google.colab import files\n",
        "files.download(\"model-best.zip\")"
      ]
    },
    {
      "cell_type": "code",
      "execution_count": null,
      "metadata": {
        "id": "YYWH4O1AuFFP"
      },
      "outputs": [],
      "source": []
    },
    {
      "cell_type": "code",
      "execution_count": null,
      "metadata": {
        "id": "URNscf7LuFBs"
      },
      "outputs": [],
      "source": []
    },
    {
      "cell_type": "code",
      "execution_count": null,
      "metadata": {
        "id": "H_thNOe9uE-5"
      },
      "outputs": [],
      "source": []
    },
    {
      "cell_type": "code",
      "execution_count": null,
      "metadata": {
        "id": "nmF4yP9DuE76"
      },
      "outputs": [],
      "source": []
    },
    {
      "cell_type": "code",
      "execution_count": null,
      "metadata": {
        "id": "3Rsz9nGEuE5r"
      },
      "outputs": [],
      "source": []
    },
    {
      "cell_type": "code",
      "execution_count": null,
      "metadata": {
        "id": "4IXBv5GYuE2k"
      },
      "outputs": [],
      "source": []
    },
    {
      "cell_type": "code",
      "execution_count": null,
      "metadata": {
        "id": "nETiEvoCuEz_"
      },
      "outputs": [],
      "source": []
    },
    {
      "cell_type": "code",
      "execution_count": null,
      "metadata": {
        "id": "lXpmWGebuExd"
      },
      "outputs": [],
      "source": []
    }
  ],
  "metadata": {
    "accelerator": "GPU",
    "colab": {
      "gpuType": "T4",
      "provenance": []
    },
    "kernelspec": {
      "display_name": "Python 3",
      "name": "python3"
    },
    "language_info": {
      "name": "python"
    }
  },
  "nbformat": 4,
  "nbformat_minor": 0
}
